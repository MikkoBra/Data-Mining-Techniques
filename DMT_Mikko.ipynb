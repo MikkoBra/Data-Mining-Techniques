{
 "cells": [
  {
   "metadata": {},
   "cell_type": "code",
   "outputs": [],
   "execution_count": null,
   "source": [
    "import numpy as np\n",
    "import pandas as pd\n",
    "from wordcloud import WordCloud\n",
    "import matplotlib.pyplot as plt\n",
    "import re\n",
    "from datetime import datetime, timedelta\n",
    "import seaborn as sns\n",
    "from scipy import stats"
   ],
   "id": "35e5fe258b7710d1"
  },
  {
   "metadata": {},
   "cell_type": "code",
   "outputs": [],
   "execution_count": null,
   "source": [
    "def import_raw_data():\n",
    "    \"\"\"\n",
    "    Imports data from the ODI-2025.csv file without modifying it, aside from column names.\n",
    "\n",
    "    :return: The contents of ODI-2025.csv as a pandas dataframe.\n",
    "    \"\"\"\n",
    "    usecols = ['Timestamp',\n",
    "               'What programme are you in?',\n",
    "               'Have you taken a course on machine learning?',\n",
    "               'Have you taken a course on information retrieval?',\n",
    "               'Have you taken a course on statistics?',\n",
    "               'Have you taken a course on databases?',\n",
    "               'What is your gender?',\n",
    "               'I have used ChatGPT to help me with some of my study assignments ',\n",
    "               'When is your birthday (date)?',\n",
    "               'How many students do you estimate there are in the room?',\n",
    "               'What is your stress level (0-100)?',\n",
    "               'How many hours per week do you do sports (in whole hours)? ',\n",
    "               'Give a random number',\n",
    "               'Time you went to bed Yesterday',\n",
    "               'What makes a good day for you (1)?',\n",
    "               'What makes a good day for you (2)?']\n",
    "    names = ['timestamp',\n",
    "             'programme',\n",
    "             'machine_learning',\n",
    "             'information_retrieval',\n",
    "             'statistics',\n",
    "             'databases',\n",
    "             'gender',\n",
    "             'chatgpt',\n",
    "             'birthday',\n",
    "             'student_estimate',\n",
    "             'stress',\n",
    "             'sports',\n",
    "             'random_number',\n",
    "             'bedtime',\n",
    "             'good_day_1',\n",
    "             'good_day_2']\n",
    "\n",
    "    df = pd.read_csv('files/ODI-2025.csv', usecols=usecols, sep=';')\n",
    "    df.columns = names\n",
    "    return df\n",
    "\n",
    "\n",
    "def save_dataframe_to_file(df, filename):\n",
    "    \"\"\"\n",
    "    Saves a pandas dataframe to the file DMT_Data.csv with separator ;.\n",
    "\n",
    "    :param df: Pandas dataframe\n",
    "    \"\"\"\n",
    "    df.to_csv('files/' + filename, index=False, sep=';')\n",
    "\n",
    "\n",
    "\n",
    "def import_data(filename):\n",
    "    return pd.read_csv('files/' + filename, sep=';')\n",
    "    \n",
    "\n",
    "def import_clean_data():\n",
    "    return pd.read_csv('files/DMT_Data.csv', sep=';')"
   ],
   "id": "3331ab427ae55680"
  },
  {
   "metadata": {},
   "cell_type": "code",
   "outputs": [],
   "execution_count": null,
   "source": [
    "def column_to_string(df, colname):\n",
    "    cleaned_column = df[colname].apply(lambda x: ' '.join(x.split()))\n",
    "    return ' '.join(cleaned_column)\n",
    "\n",
    "\n",
    "def column_wordcloud(filename, column):\n",
    "    data = pd.read_csv('files/' + filename, sep=';')\n",
    "    column_string = column_to_string(data, column)\n",
    "    wordcloud = WordCloud(width=800,\n",
    "                          height=400,\n",
    "                          background_color='white',\n",
    "                          colormap='viridis'\n",
    "                          ).generate(column_string)\n",
    "    plt.imshow(wordcloud, interpolation='bilinear')\n",
    "    plt.axis(\"off\")\n",
    "    plt.savefig(f'figures/{column}_wordcloud.png', dpi=300, bbox_inches='tight')"
   ],
   "id": "7c9e6ad6623a278d"
  },
  {
   "metadata": {},
   "cell_type": "markdown",
   "source": "# Data Cleaning",
   "id": "e3a20f99419faad7"
  },
  {
   "metadata": {},
   "cell_type": "markdown",
   "source": "### Convert to Standard Formats",
   "id": "f72d48ef12fb7904"
  },
  {
   "metadata": {},
   "cell_type": "code",
   "outputs": [],
   "execution_count": null,
   "source": [
    "def check_ai(programme):\n",
    "    return bool(re.search(r'\\b(ai|artificial|artifical|inteligence|intelligence)\\b', programme, re.IGNORECASE))\n",
    "\n",
    "\n",
    "def check_cs(programme):\n",
    "    return bool(re.search(r'\\b(cs|computer science|comp sci)\\b', programme, re.IGNORECASE))\n",
    "\n",
    "\n",
    "def check_cls(programme):\n",
    "    return bool(re.search(r'\\b(cls|computational science)\\b', programme, re.IGNORECASE))\n",
    "\n",
    "\n",
    "def check_econometrics(programme):\n",
    "    return bool(re.search(r'\\b(econometrics|eor)\\b', programme, re.IGNORECASE))\n",
    "\n",
    "\n",
    "def check_finance(programme):\n",
    "    return bool(re.search(r'\\b(finance|fintech)\\b', programme, re.IGNORECASE))\n",
    "\n",
    "\n",
    "def check_business(programme):\n",
    "    return bool(re.search(r'\\b(business|BA)\\b', programme, re.IGNORECASE))\n",
    "\n",
    "\n",
    "def check_bioinformatics(programme):\n",
    "    return bool(re.search(r'bio', programme, re.IGNORECASE))\n",
    "\n",
    "\n",
    "def clean_programmes(df):\n",
    "    for idx, programme in df['programme'].items():\n",
    "        if check_ai(programme):\n",
    "            df.at[idx, 'programme'] = 'Artificial Intelligence'\n",
    "        elif check_cs(programme):\n",
    "            df.at[idx, 'programme'] = 'Computer Science'\n",
    "        elif check_cls(programme):\n",
    "            df.at[idx, 'programme'] = 'Computational Science'\n",
    "        elif check_econometrics(programme):\n",
    "            df.at[idx, 'programme'] = 'Econometrics'\n",
    "        elif check_finance(programme):\n",
    "            df.at[idx, 'programme'] = 'Finance'\n",
    "        elif check_business(programme):\n",
    "            df.at[idx, 'programme'] = 'Business Analytics'\n",
    "        elif check_bioinformatics(programme):\n",
    "            df.at[idx, 'programme'] = 'Bioinformatics'\n",
    "        else:\n",
    "            df.at[idx, 'programme'] = 'Other'\n",
    "            # print(df.at[idx, 'programme'])\n",
    "    return df"
   ],
   "id": "8948c3b7fc471eca"
  },
  {
   "metadata": {},
   "cell_type": "code",
   "outputs": [],
   "execution_count": null,
   "source": [
    "def convert_course_experience(df):\n",
    "    for column in ['machine_learning', 'information_retrieval', 'statistics', 'databases']:\n",
    "        for idx, value in df[column].items():\n",
    "            if value in ['yes', '1', 'mu', 'ja']:\n",
    "                df.at[idx, column] = 'yes'\n",
    "            elif value in ['no', '0', 'sigma', 'nee']:\n",
    "                df.at[idx, column] = 'no'\n",
    "    return df"
   ],
   "id": "96e3e84c8a359e6b"
  },
  {
   "metadata": {},
   "cell_type": "code",
   "outputs": [],
   "execution_count": null,
   "source": [
    "def convert_gender(df):\n",
    "    for idx, value in df['gender'].items():\n",
    "        if value != 'male' and value != 'female':\n",
    "            df.at[idx, 'gender'] = 'other'\n",
    "    return df"
   ],
   "id": "65638299f2d181a9"
  },
  {
   "metadata": {},
   "cell_type": "code",
   "outputs": [],
   "execution_count": null,
   "source": [
    "def convert_birthdays(df):\n",
    "    for idx, value in df['birthday'].items():\n",
    "        value = str(value)\n",
    "        if re.match(r'^\\d{2}-\\d{2}-\\d{4}$', value):\n",
    "            # dd-mm-yyyy\n",
    "            df.at[idx, 'birthday'] = value.replace('-', '/')\n",
    "        elif re.match(r'^\\d{2}-\\d{2}-\\d{2}$', value):\n",
    "            # mm-dd-yy\n",
    "            mm, dd, yy = value.split('-')\n",
    "            century = '20' if int(yy) <= 25 else '19'\n",
    "            formatted_value = f\"{dd}/{mm}/{century}{yy}\"\n",
    "            df.at[idx, 'birthday'] = formatted_value\n",
    "        elif re.match(r'^\\d{8}$', value):\n",
    "            # ddmmyyyy\n",
    "            if float(value[4:]) > 1925:\n",
    "                formatted_value = f\"{value[:2]}/{value[2:4]}/{value[4:]}\"\n",
    "                df.at[idx, 'birthday'] = formatted_value\n",
    "        elif re.match(r'^\\d{2}\\.\\d{2}\\.\\d{4}$', value):\n",
    "            # dd.mm.yyyy\n",
    "            df.at[idx, 'birthday'] = value.replace('.', '/')\n",
    "        elif re.match(r'^\\d{4}\\.\\d{2}\\.\\d{2}$', value):\n",
    "            # yyyy.mm.dd\n",
    "            yyyy, mm, dd = value.split('.')\n",
    "            formatted_value = f\"{dd}/{mm}/{yyyy}\"\n",
    "            df.at[idx, 'birthday'] = formatted_value\n",
    "        elif re.match(r'^\\d{4}-\\d{2}-\\d{2}$', value):\n",
    "            # yyyy-mm-dd\n",
    "            yyyy, mm, dd = value.split('-')\n",
    "            formatted_value = f\"{dd}/{mm}/{yyyy}\"\n",
    "            df.at[idx, 'birthday'] = formatted_value\n",
    "        elif re.match(r'^\\d{2} \\d{2} \\d{4}$', value):\n",
    "            # dd mm yyyy\n",
    "            df.at[idx, 'birthday'] = value.replace(' ', '/')\n",
    "    return df"
   ],
   "id": "1cfaeacef423e151"
  },
  {
   "metadata": {},
   "cell_type": "code",
   "outputs": [],
   "execution_count": null,
   "source": [
    "def remove_non_numeric(x):\n",
    "    x = str(x)\n",
    "    x = re.sub(r'[^0-9.,E+\\-]', '', x)\n",
    "    if '-' in x[1:]:\n",
    "        x = x.split('-', 1)[0]\n",
    "    if x.count('E') > 1:\n",
    "        x = x.replace('E', '')\n",
    "    \n",
    "    return x"
   ],
   "id": "8b56b8589c18dc4d"
  },
  {
   "metadata": {},
   "cell_type": "code",
   "outputs": [],
   "execution_count": null,
   "source": [
    "def remove_non_numeric_in_column(df, column):\n",
    "    df[column] = df[column].apply(\n",
    "        lambda x: remove_non_numeric(x)\n",
    "    )\n",
    "    return df"
   ],
   "id": "68e59ebbe80f82dc"
  },
  {
   "metadata": {},
   "cell_type": "code",
   "outputs": [],
   "execution_count": null,
   "source": [
    "def clean_and_convert_student_estimate(df):\n",
    "    df = remove_non_numeric_in_column(df, 'student_estimate')\n",
    "    df['student_estimate'] = df['student_estimate'].replace('', np.nan)\n",
    "    df['student_estimate'] = df['student_estimate'].astype(float)\n",
    "    return df"
   ],
   "id": "b41bab3f7bb084b0"
  },
  {
   "metadata": {},
   "cell_type": "code",
   "outputs": [],
   "execution_count": null,
   "source": [
    "def clean_and_convert_stress(df):\n",
    "    df['stress'] = df['stress'].astype(str)\n",
    "    df['stress'] = df['stress'].apply(lambda x: re.sub(',', '.', x))\n",
    "    df = remove_non_numeric_in_column(df, 'stress')\n",
    "    df['stress'] = df['stress'].replace('', np.nan)\n",
    "    df['stress'] = df['stress'].astype(float)\n",
    "    return df"
   ],
   "id": "82ceea0a84235a5b"
  },
  {
   "metadata": {},
   "cell_type": "code",
   "outputs": [],
   "execution_count": null,
   "source": [
    "def clean_and_convert_sports(df):\n",
    "    df['sports'] = df['sports'].astype(str)\n",
    "    for idx, value in df['sports'].items():\n",
    "        if value == 'zero':\n",
    "            # the one case that had value 'zero'\n",
    "            df.at[idx, 'sports'] = str(0)\n",
    "        elif bool(re.search(r'-', value)):\n",
    "            # range a-b\n",
    "            lower, higher = value.split('-')\n",
    "            df.at[idx, 'sports'] = lower\n",
    "        elif bool(re.search(r'[.,]', value)):\n",
    "            # decimal (question asked for whole hours)\n",
    "            integral, _ = re.split(r'[.,]', value, maxsplit=1)\n",
    "            df.at[idx, 'sports'] = integral\n",
    "    df = remove_non_numeric_in_column(df, 'sports')\n",
    "    df['sports'] = df['sports'].replace('', np.nan)\n",
    "    df['sports'] = df['sports'].astype(float)\n",
    "    return df"
   ],
   "id": "86ff35fb75b615fd"
  },
  {
   "metadata": {},
   "cell_type": "code",
   "outputs": [],
   "execution_count": null,
   "source": [
    "def clean_and_convert_random_number(df):\n",
    "    df['random_number'] = df['random_number'].astype(str)\n",
    "    # international notation '.' = decimal, ',' = exponent of 10^3\n",
    "    df['random_number'] = df['random_number'].apply(\n",
    "        lambda x: re.sub(r'\\.', '', x) if x.count('.') > 1 else x\n",
    "    )\n",
    "    df['random_number'] = df['random_number'].apply(\n",
    "        lambda x: re.sub(r',', '.', x) if x.count(',') == 1 else x\n",
    "    )\n",
    "    df = remove_non_numeric_in_column(df, 'random_number')\n",
    "    df['random_number'] = df['random_number'].replace('', np.nan)\n",
    "    df['random_number'] = df['random_number'].astype(float)\n",
    "    return df"
   ],
   "id": "ade826670612d814"
  },
  {
   "metadata": {},
   "cell_type": "code",
   "outputs": [],
   "execution_count": null,
   "source": [
    "def convert_to_military_time(time_string):\n",
    "    formats = [\n",
    "        \"%H:%M\", \"%Hh%M\", \"%Hu%M\", \"%H.%M\", \"%I.%M\", \"%H-%M\",\n",
    "        \"%H\", \"%I\", \"%H%M\", \"%I%M\", \"%I%p\", \"%H%p\",\n",
    "        \"%H:%M %p\", \"%I:%M %p\", \"%H %p\", \"%I %p\",\n",
    "        \"%H:%M%p\", \"%I:%M%p\", \"%I.%M%p\"\n",
    "    ]\n",
    "    \n",
    "    for format in formats:\n",
    "        try:\n",
    "            dt = datetime.strptime(time_string.strip().lower(), format)\n",
    "            # Round minutes\n",
    "            minute = dt.minute\n",
    "            if minute < 15:\n",
    "                rounded_minute = 0\n",
    "            elif minute < 45:\n",
    "                rounded_minute = 30\n",
    "            else:\n",
    "                dt += timedelta(hours=1)\n",
    "                rounded_minute = 0\n",
    "            dt = dt.replace(minute=rounded_minute, second=0, microsecond=0)\n",
    "            if 9 <= dt.hour <= 12:\n",
    "                dt = dt.replace(hour=(dt.hour + 12) % 24)\n",
    "            return dt.strftime(\"%H:%M\")\n",
    "        except ValueError:\n",
    "            continue\n",
    "\n",
    "    print(f\"Could not parse time_string: {time_string}\")\n",
    "    return time_string"
   ],
   "id": "9e91cd82bd72a442"
  },
  {
   "metadata": {},
   "cell_type": "code",
   "outputs": [],
   "execution_count": null,
   "source": [
    "def convert_bedtime(df):\n",
    "    for idx, value in df['bedtime'].items():\n",
    "        df.at[idx, 'bedtime'] = convert_to_military_time(value)\n",
    "    return df"
   ],
   "id": "8bed8c1b4f025cb3"
  },
  {
   "metadata": {},
   "cell_type": "code",
   "outputs": [],
   "execution_count": null,
   "source": [
    "def clean_and_save(df):\n",
    "    df.drop(df.tail(1).index,inplace=True)\n",
    "    df = clean_programmes(df)\n",
    "    df = convert_course_experience(df)\n",
    "    df = convert_birthdays(df)\n",
    "    df = clean_and_convert_student_estimate(df)\n",
    "    df = clean_and_convert_stress(df)\n",
    "    df = clean_and_convert_sports(df)\n",
    "    df = clean_and_convert_random_number(df)\n",
    "    df = convert_bedtime(df)\n",
    "    save_dataframe_to_file(df, 'DMT_Data.csv')"
   ],
   "id": "98153b673e6f2d82"
  },
  {
   "metadata": {},
   "cell_type": "code",
   "outputs": [],
   "execution_count": null,
   "source": "clean_and_save(import_raw_data())",
   "id": "e15cc76ebef6d290"
  },
  {
   "metadata": {},
   "cell_type": "markdown",
   "source": "After data formatting and saving to DMT_Data.csv, some birthdays were manually adjusted to fit the format dd/mm/yyyy, and some bedtimes to hh:mm. Furthermore, rows 174, 240 were removed for being invalid. The result was saved to DMT_Data_Manual.csv.",
   "id": "b5a4e520c6d0fa4d"
  },
  {
   "metadata": {},
   "cell_type": "markdown",
   "source": "### Combining Data",
   "id": "afaa17938f046e40"
  },
  {
   "metadata": {},
   "cell_type": "code",
   "outputs": [],
   "execution_count": null,
   "source": [
    "def calculate_age(df):\n",
    "    df['birthday'] = pd.to_datetime(df['birthday'], format='%d/%m/%Y', errors='coerce')\n",
    "    df['timestamp'] = pd.to_datetime(df['timestamp'], errors='coerce')\n",
    "    \n",
    "    df['age'] = df.apply(\n",
    "        lambda row: (row['timestamp'].year - row['birthday'].year) \n",
    "                    - ((row['timestamp'].month, row['timestamp'].day) < \n",
    "                       (row['birthday'].month, row['birthday'].day)),\n",
    "        axis=1\n",
    "    ).astype(float)\n",
    "    return df"
   ],
   "id": "fe2861eeeaffe7a1"
  },
  {
   "metadata": {},
   "cell_type": "code",
   "outputs": [],
   "execution_count": null,
   "source": [
    "df = import_data('DMT_Data_Manual.csv')\n",
    "save_dataframe_to_file(calculate_age(df), 'DMT_Data_Age.csv')"
   ],
   "id": "b0757f5cdcb4be31"
  },
  {
   "metadata": {},
   "cell_type": "markdown",
   "source": [
    "### Removing Invalid Data\n",
    "Removal of data based on values outside of a realistic/predetermined range."
   ],
   "id": "9cfc63ece8718051"
  },
  {
   "metadata": {},
   "cell_type": "code",
   "outputs": [],
   "execution_count": null,
   "source": [
    "def remove_invalid_ages(df):\n",
    "    df['age'] = df['age'].where((df['age'] >= 16) & (df['age'] <= 80), np.nan)\n",
    "    return df"
   ],
   "id": "a54665f3616e3772"
  },
  {
   "metadata": {},
   "cell_type": "code",
   "outputs": [],
   "execution_count": null,
   "source": [
    "def remove_invalid_student_estimates(df):\n",
    "    df['student_estimate'] = df['student_estimate'].where((df['student_estimate'] >= 50) & (df['student_estimate'] <= 800), np.nan)\n",
    "    return df"
   ],
   "id": "504cf9c647ce8f25"
  },
  {
   "metadata": {},
   "cell_type": "code",
   "outputs": [],
   "execution_count": null,
   "source": [
    "def remove_invalid_stress(df):\n",
    "    df['stress'] = df['stress'].where((df['stress'] >= 0) & (df['stress'] <= 100), np.nan)\n",
    "    return df"
   ],
   "id": "dbbb9d8443fa8741"
  },
  {
   "metadata": {},
   "cell_type": "code",
   "outputs": [],
   "execution_count": null,
   "source": [
    "def remove_invalid_sports(df):\n",
    "    df['sports'] = df['sports'].where((df['sports'] >= 0) & (df['sports'] <= 40), np.nan)\n",
    "    return df"
   ],
   "id": "72b7afdb19f32c62"
  },
  {
   "metadata": {},
   "cell_type": "code",
   "outputs": [],
   "execution_count": null,
   "source": [
    "def remove_invalid_bedtimes(df):\n",
    "    pattern = r'^\\d{2}:\\d{2}$'\n",
    "    df['bedtime'] = df['bedtime'].astype(str).apply(\n",
    "        lambda x: x if re.match(pattern, x) else np.nan\n",
    "    )\n",
    "    return df"
   ],
   "id": "7644c8818dfccd25"
  },
  {
   "metadata": {},
   "cell_type": "code",
   "outputs": [],
   "execution_count": null,
   "source": [
    "def remove_invalid_data(df):\n",
    "    df = remove_invalid_ages(df)\n",
    "    df = remove_invalid_student_estimates(df)\n",
    "    df = remove_invalid_stress(df)\n",
    "    df = remove_invalid_sports(df)\n",
    "    df = remove_invalid_bedtimes(df)\n",
    "    save_dataframe_to_file(df, 'DMT_Data_Clean.csv')"
   ],
   "id": "ca3d19d2e1219e7"
  },
  {
   "metadata": {},
   "cell_type": "code",
   "outputs": [],
   "execution_count": null,
   "source": "remove_invalid_data(import_data('DMT_Data_Age.csv'))",
   "id": "fc775396eb488b92"
  },
  {
   "metadata": {},
   "cell_type": "markdown",
   "source": [
    "### Imputation\n",
    "Replacing missing values\n",
    "#### Method 1: Replace with Median"
   ],
   "id": "2386a5c891d50209"
  },
  {
   "metadata": {},
   "cell_type": "code",
   "outputs": [],
   "execution_count": null,
   "source": [
    "def median_bedtime(bedtimes):\n",
    "    bedtimes_DT = pd.to_datetime(bedtimes, format='%H:%M', errors='coerce')\n",
    "    bedtimes_seconds = (bedtimes_DT.dt.hour * 3600 + bedtimes_DT.dt.minute * 60)\n",
    "    # Center around midnight s.t. 22:00 becomes -02:00\n",
    "    bedtimes_centered = bedtimes_seconds.apply(lambda s: s - (24 * 3600) if s > (12 * 3600) else s)\n",
    "    median_seconds = bedtimes_centered.median()\n",
    "    median_time = (datetime.min + timedelta(seconds=median_seconds)).strftime('%H:%M')\n",
    "    return median_time"
   ],
   "id": "fa237c80b42a0f1d"
  },
  {
   "metadata": {},
   "cell_type": "code",
   "outputs": [],
   "execution_count": null,
   "source": [
    "def impute_median(df):\n",
    "    cols = ['student_estimate', 'stress', 'sports', 'bedtime', 'age']\n",
    "    for col in cols:\n",
    "        if col == 'bedtime':\n",
    "            median = median_bedtime(df[col])\n",
    "        else:\n",
    "            median = df[col].median()\n",
    "        print('median for col ' + col + ': ' + str(median))\n",
    "        df[col] = df[col].fillna(median)\n",
    "    return df"
   ],
   "id": "55c87708b7b2e112"
  },
  {
   "metadata": {},
   "cell_type": "code",
   "outputs": [],
   "execution_count": null,
   "source": "save_dataframe_to_file(impute_median(import_data('DMT_Data_Clean.csv')), 'DMT_Data_Median.csv')",
   "id": "cf4ecefd4dc77066"
  },
  {
   "metadata": {},
   "cell_type": "markdown",
   "source": "### Transforming data",
   "id": "f9b1778f0934528e"
  },
  {
   "metadata": {},
   "cell_type": "markdown",
   "source": "#### Numerical Classifier",
   "id": "58244ef51edf47c7"
  },
  {
   "metadata": {},
   "cell_type": "code",
   "outputs": [],
   "execution_count": null,
   "source": [
    "def one_hot_encode(df, columns):\n",
    "    return pd.get_dummies(df, columns=columns)"
   ],
   "id": "dda40a9f7116bbbd"
  },
  {
   "metadata": {},
   "cell_type": "code",
   "outputs": [],
   "execution_count": null,
   "source": [
    "def normalize(df, columns):\n",
    "    for col in columns:\n",
    "        min_value = min(df[col])\n",
    "        max_value = max(df[col])\n",
    "        df[col] = (df[col]-min_value)/(max_value-min_value)\n",
    "    return df"
   ],
   "id": "b115e61795f1ef75"
  },
  {
   "metadata": {},
   "cell_type": "code",
   "outputs": [],
   "execution_count": null,
   "source": [
    "def bedtime_to_mins_past_three(df):\n",
    "    bedtimes = pd.to_datetime(df['bedtime'], format='%H:%M').dt.time\n",
    "    bedtimes_mins = bedtimes.apply(lambda t: t.hour * 60 + t.minute)\n",
    "    df['bedtime'] = (bedtimes_mins - 900) % 1440\n",
    "    return df"
   ],
   "id": "883c3931e40b200c"
  },
  {
   "metadata": {},
   "cell_type": "code",
   "outputs": [],
   "execution_count": null,
   "source": [
    "def encode_numerically(df):\n",
    "    categorical = ['programme', 'machine_learning', 'information_retrieval', 'statistics', 'databases', 'gender', 'chatgpt']\n",
    "    numerical = ['student_estimate', 'stress', 'sports', 'bedtime', 'age']\n",
    "    df = bedtime_to_mins_past_three(df)\n",
    "    df = one_hot_encode(df, categorical)\n",
    "    df = normalize(df, numerical)\n",
    "    return df"
   ],
   "id": "4f0fd80f2a8ff19a"
  },
  {
   "metadata": {},
   "cell_type": "code",
   "outputs": [],
   "execution_count": null,
   "source": [
    "df = encode_numerically(import_data('DMT_Data_Clean.csv'))\n",
    "save_dataframe_to_file(df, 'DMT_Data_Numerical.csv')"
   ],
   "id": "276ed93336b81a86"
  },
  {
   "metadata": {},
   "cell_type": "markdown",
   "source": "#### Categorical Classifier",
   "id": "cc1f85c2425ee982"
  },
  {
   "metadata": {},
   "cell_type": "code",
   "outputs": [],
   "execution_count": null,
   "source": [
    "def encode_programme(df):\n",
    "    programmes = df['programme']\n",
    "    programme_mapping = {program: idx for idx, program in enumerate(programmes.unique())}\n",
    "    # make 'Other' the last entry\n",
    "    last_integer = len(programme_mapping) - 1\n",
    "    last_programme = [programme for programme, value in programme_mapping.items() if value == last_integer][0]\n",
    "    other_integer = programme_mapping['Other']\n",
    "    programme_mapping['Other'] = last_integer\n",
    "    programme_mapping[last_programme] = other_integer\n",
    "    df['programme'] = df['programme'].map(programme_mapping)\n",
    "    print(\"Programmes mapped:\", programme_mapping)\n",
    "    return df"
   ],
   "id": "15f42fec84d12da9"
  },
  {
   "metadata": {},
   "cell_type": "code",
   "outputs": [],
   "execution_count": null,
   "source": [
    "def encode_student_estimate(df):\n",
    "    # low = 0-300, Medium = 301-450, High = 451+\n",
    "    bins = [0, 300, 450, float('inf')]\n",
    "    labels = ['low', 'medium', 'high']\n",
    "    df['student_estimate'] = pd.cut(df['student_estimate'], bins=bins, labels=labels, right=True)\n",
    "    return df"
   ],
   "id": "82c47c2d8783349d"
  },
  {
   "metadata": {},
   "cell_type": "code",
   "outputs": [],
   "execution_count": null,
   "source": [
    "def encode_stress(df):\n",
    "    # Low = 0-33, Medium = 34-66, High = 67-100\n",
    "    bins = [0, 33, 66, 100]\n",
    "    labels = ['low', 'medium', 'high']\n",
    "    df['stress'] = pd.cut(df['stress'], bins=bins, labels=labels, right=True)\n",
    "    return df"
   ],
   "id": "51257c748a4c4eb5"
  },
  {
   "metadata": {},
   "cell_type": "code",
   "outputs": [],
   "execution_count": null,
   "source": [
    "def encode_sports(df):\n",
    "    # Low = 0-2, Medium = 3-6, High = 7+\n",
    "    bins = [0, 2, 6, float('inf')]\n",
    "    labels = ['low', 'medium', 'high']\n",
    "    df['sports'] = pd.cut(df['sports'], bins=bins, labels=labels, right=True)\n",
    "    return df"
   ],
   "id": "ae6566b216da9012"
  },
  {
   "metadata": {},
   "cell_type": "code",
   "outputs": [],
   "execution_count": null,
   "source": [
    "def encode_bedtime(df):\n",
    "    df = bedtime_to_mins_past_three(df)\n",
    "    # Early = before 10pm, Middle = 10:01pm-1am, Late = past 1:01am\n",
    "    bins = [0, 420, 600, float('inf')]\n",
    "    labels = ['early', 'middle', 'late']\n",
    "    df['bedtime'] = pd.cut(df['bedtime'], bins=bins, labels=labels, right=True)\n",
    "    return df"
   ],
   "id": "faefbdd3e91a24b4"
  },
  {
   "metadata": {},
   "cell_type": "code",
   "outputs": [],
   "execution_count": null,
   "source": [
    "def encode_age(df):\n",
    "    # Young = 0-21, Middle = 22-25, Old = 26+\n",
    "    bins = [0, 21, 25, float('inf')]\n",
    "    labels = ['young', 'middle', 'old']\n",
    "    df['age'] = pd.cut(df['age'], bins=bins, labels=labels, right=True)\n",
    "    return df"
   ],
   "id": "1e22431c52acc304"
  },
  {
   "metadata": {},
   "cell_type": "code",
   "outputs": [],
   "execution_count": null,
   "source": [
    "def encode_categorically(df):\n",
    "    # df = encode_programme(df)\n",
    "    df = encode_student_estimate(df)\n",
    "    df = encode_stress(df)\n",
    "    df = encode_sports(df)\n",
    "    df = encode_bedtime(df)\n",
    "    df = encode_age(df)\n",
    "    save_dataframe_to_file(df, 'DMT_Data_Categorical.csv')"
   ],
   "id": "66cef8b56e0f93be"
  },
  {
   "metadata": {},
   "cell_type": "code",
   "outputs": [],
   "execution_count": null,
   "source": [
    "df = import_data('DMT_Data_Clean.csv')\n",
    "encode_categorically(df)"
   ],
   "id": "cad7febfe810b10e"
  },
  {
   "metadata": {},
   "cell_type": "markdown",
   "source": "## Plotting",
   "id": "250774a34ac32df7"
  },
  {
   "metadata": {},
   "cell_type": "code",
   "outputs": [],
   "execution_count": null,
   "source": [
    "def plot_bedtimes(df):\n",
    "    bedtimes_DT = pd.to_datetime(df['bedtime'], format='%H:%M', errors='coerce')\n",
    "    bedtimes_seconds = bedtimes_DT.dt.hour * 3600 + bedtimes_DT.dt.minute * 60\n",
    "\n",
    "    # Center bedtimes around midnight\n",
    "    half_day = 43200  # 12 hours in seconds\n",
    "    centered_bedtimes = bedtimes_seconds.apply(lambda x: x - 86400 if x > half_day else x)\n",
    "    \n",
    "    # Sort centered bedtimes\n",
    "    sorted_bedtimes = np.sort(centered_bedtimes)\n",
    "\n",
    "    # Create the histogram from sorted values\n",
    "    counts = pd.Series(sorted_bedtimes).value_counts().sort_index()\n",
    "\n",
    "    plt.figure(figsize=(10, 6))\n",
    "    counts.plot(kind='bar', color='skyblue', edgecolor='black')\n",
    "    plt.title(f\"Histogram of bedtimes\")\n",
    "    plt.xlabel(\"bedtime\")\n",
    "    plt.ylabel(\"Count\")\n",
    "    tick_labels = [str(datetime.utcfromtimestamp(x).strftime('%H:%M')) for x in counts.index]  # Convert seconds to hh:mm\n",
    "    plt.xticks(ticks=np.arange(len(tick_labels)), labels=tick_labels, rotation=90)\n",
    "    plt.grid(axis='y', linestyle='--', alpha=0.7)\n",
    "    plt.tight_layout()\n",
    "    plt.show()"
   ],
   "id": "aaa3c80dc6ab580d"
  },
  {
   "metadata": {},
   "cell_type": "code",
   "outputs": [],
   "execution_count": null,
   "source": [
    "def plot_stress(df):\n",
    "    plt.figure(figsize=(10, 6))\n",
    "    df['stress'].plot(kind='hist', bins=10, color='skyblue', edgecolor='black', alpha=0.7)\n",
    "    plt.title(\"Histogram of Stress\")\n",
    "    plt.xlabel(\"Stress\")\n",
    "    plt.ylabel(\"Count\")\n",
    "    plt.grid(axis='y', linestyle='--', alpha=0.7)\n",
    "    plt.tight_layout()\n",
    "    plt.show()"
   ],
   "id": "c5198754a1f0a376"
  },
  {
   "metadata": {},
   "cell_type": "code",
   "outputs": [],
   "execution_count": null,
   "source": [
    "def plot_dist(df, column):\n",
    "    plt.figure(figsize=(10, 6))\n",
    "    df[column].plot(kind='hist', bins=10, color='skyblue', edgecolor='black', alpha=0.7)\n",
    "    \n",
    "    plt.title(f\"Histogram of '{column}'\")\n",
    "    plt.xlabel(column)\n",
    "    plt.ylabel(\"Count\")\n",
    "    plt.grid(axis='y', linestyle='--', alpha=0.7)\n",
    "    plt.tight_layout()\n",
    "    plt.show()"
   ],
   "id": "d8720ddf51fbda63"
  },
  {
   "metadata": {},
   "cell_type": "code",
   "outputs": [],
   "execution_count": null,
   "source": [
    "def plot_numerical_imputations():\n",
    "    cols = ['student_estimate', 'stress', 'sports', 'bedtime', 'age']\n",
    "    df_med = import_data('DMT_Data_Median.csv')\n",
    "    df_na = import_data('DMT_Data_Clean.csv')\n",
    "    for col in cols:\n",
    "        if col == 'bedtime':\n",
    "            plot_bedtimes(df_med)\n",
    "            plot_bedtimes(df_na)\n",
    "        else:\n",
    "            plot_dist(df_med, col)\n",
    "            plot_dist(df_na, col)"
   ],
   "id": "13f563a4e152f72a"
  },
  {
   "metadata": {},
   "cell_type": "code",
   "outputs": [],
   "execution_count": null,
   "source": "plot_numerical_imputations()",
   "id": "9a6a5be4b5daa0d6"
  }
 ],
 "metadata": {
  "kernelspec": {
   "display_name": "Python 3 (ipykernel)",
   "language": "python",
   "name": "python3"
  },
  "language_info": {
   "codemirror_mode": {
    "name": "ipython",
    "version": 3
   },
   "file_extension": ".py",
   "mimetype": "text/x-python",
   "name": "python",
   "nbconvert_exporter": "python",
   "pygments_lexer": "ipython3",
   "version": "3.11.0"
  }
 },
 "nbformat": 4,
 "nbformat_minor": 5
}
