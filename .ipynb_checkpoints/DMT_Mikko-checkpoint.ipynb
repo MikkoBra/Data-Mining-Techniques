{
 "cells": [
  {
   "cell_type": "code",
   "execution_count": 1,
   "id": "7a10607a-4be8-417d-baec-031cd73affee",
   "metadata": {},
   "outputs": [],
   "source": [
    "import numpy as np\n",
    "import pandas as pd\n",
    "from wordcloud import WordCloud\n",
    "import matplotlib.pyplot as plt\n",
    "import re\n",
    "from datetime import datetime, timedelta\n",
    "import seaborn as sns\n",
    "from scipy import stats"
   ]
  },
  {
   "cell_type": "code",
   "execution_count": 2,
   "id": "90874a29-6f85-4d77-bf9f-476216e6fcb5",
   "metadata": {},
   "outputs": [],
   "source": [
    "def import_raw_data():\n",
    "    \"\"\"\n",
    "    Imports data from the ODI-2025.csv file without modifying it, aside from column names.\n",
    "\n",
    "    :return: The contents of ODI-2025.csv as a pandas dataframe.\n",
    "    \"\"\"\n",
    "    usecols = ['Timestamp',\n",
    "               'What programme are you in?',\n",
    "               'Have you taken a course on machine learning?',\n",
    "               'Have you taken a course on information retrieval?',\n",
    "               'Have you taken a course on statistics?',\n",
    "               'Have you taken a course on databases?',\n",
    "               'What is your gender?',\n",
    "               'I have used ChatGPT to help me with some of my study assignments ',\n",
    "               'When is your birthday (date)?',\n",
    "               'How many students do you estimate there are in the room?',\n",
    "               'What is your stress level (0-100)?',\n",
    "               'How many hours per week do you do sports (in whole hours)? ',\n",
    "               'Give a random number',\n",
    "               'Time you went to bed Yesterday',\n",
    "               'What makes a good day for you (1)?',\n",
    "               'What makes a good day for you (2)?']\n",
    "    names = ['timestamp',\n",
    "             'programme',\n",
    "             'machine_learning',\n",
    "             'information_retrieval',\n",
    "             'statistics',\n",
    "             'databases',\n",
    "             'gender',\n",
    "             'chatgpt',\n",
    "             'birthday',\n",
    "             'student_estimate',\n",
    "             'stress',\n",
    "             'sports',\n",
    "             'random_number',\n",
    "             'bedtime',\n",
    "             'good_day_1',\n",
    "             'good_day_2']\n",
    "\n",
    "    df = pd.read_csv('files/ODI-2025.csv', usecols=usecols, sep=';')\n",
    "    df.columns = names\n",
    "    return df\n",
    "\n",
    "\n",
    "def save_dataframe_to_file(df, filename):\n",
    "    \"\"\"\n",
    "    Saves a pandas dataframe to the file DMT_Data.csv with separator ;.\n",
    "\n",
    "    :param df: Pandas dataframe\n",
    "    \"\"\"\n",
    "    df.to_csv('files/' + filename, index=False, sep=';')\n",
    "\n",
    "\n",
    "\n",
    "def import_data(filename):\n",
    "    return pd.read_csv('files/' + filename, sep=';')\n",
    "    \n",
    "\n",
    "def import_clean_data():\n",
    "    return pd.read_csv('files/DMT_Data.csv', sep=';')"
   ]
  },
  {
   "cell_type": "code",
   "execution_count": 3,
   "id": "ac60769e-d382-48aa-aff1-9250d5dfcc12",
   "metadata": {},
   "outputs": [],
   "source": [
    "def column_to_string(df, colname):\n",
    "    cleaned_column = df[colname].apply(lambda x: ' '.join(x.split()))\n",
    "    return ' '.join(cleaned_column)\n",
    "\n",
    "\n",
    "def column_wordcloud(filename, column):\n",
    "    data = pd.read_csv('files/' + filename, sep=';')\n",
    "    column_string = column_to_string(data, column)\n",
    "    wordcloud = WordCloud(width=800,\n",
    "                          height=400,\n",
    "                          background_color='white',\n",
    "                          colormap='viridis'\n",
    "                          ).generate(column_string)\n",
    "    plt.imshow(wordcloud, interpolation='bilinear')\n",
    "    plt.axis(\"off\")\n",
    "    plt.savefig(f'figures/{column}_wordcloud.png', dpi=300, bbox_inches='tight')"
   ]
  },
  {
   "cell_type": "markdown",
   "id": "8ada199c-42eb-4c34-9f46-74b713f956a6",
   "metadata": {},
   "source": [
    "# Data Cleaning"
   ]
  },
  {
   "cell_type": "markdown",
   "id": "bb8d7beb-dee0-4b0b-895c-27b88471b198",
   "metadata": {},
   "source": [
    "### Convert to Standard Formats"
   ]
  },
  {
   "cell_type": "code",
   "execution_count": 4,
   "id": "1b623c70-d8e9-475d-8b85-ba4db43f888d",
   "metadata": {},
   "outputs": [],
   "source": [
    "def check_ai(programme):\n",
    "    return bool(re.search(r'\\b(ai|artificial|artifical|inteligence|intelligence)\\b', programme, re.IGNORECASE))\n",
    "\n",
    "\n",
    "def check_cs(programme):\n",
    "    return bool(re.search(r'\\b(cs|computer science|comp sci)\\b', programme, re.IGNORECASE))\n",
    "\n",
    "\n",
    "def check_cls(programme):\n",
    "    return bool(re.search(r'\\b(cls|computational science)\\b', programme, re.IGNORECASE))\n",
    "\n",
    "\n",
    "def check_econometrics(programme):\n",
    "    return bool(re.search(r'\\b(econometrics|eor)\\b', programme, re.IGNORECASE))\n",
    "\n",
    "\n",
    "def check_finance(programme):\n",
    "    return bool(re.search(r'\\b(finance|fintech)\\b', programme, re.IGNORECASE))\n",
    "\n",
    "\n",
    "def check_business(programme):\n",
    "    return bool(re.search(r'\\b(business|BA)\\b', programme, re.IGNORECASE))\n",
    "\n",
    "\n",
    "def check_bioinformatics(programme):\n",
    "    return bool(re.search(r'bio', programme, re.IGNORECASE))\n",
    "\n",
    "\n",
    "def clean_programmes(df):\n",
    "    for idx, programme in df['programme'].items():\n",
    "        if check_ai(programme):\n",
    "            df.at[idx, 'programme'] = 'Artificial Intelligence'\n",
    "        elif check_cs(programme):\n",
    "            df.at[idx, 'programme'] = 'Computer Science'\n",
    "        elif check_cls(programme):\n",
    "            df.at[idx, 'programme'] = 'Computational Science'\n",
    "        elif check_econometrics(programme):\n",
    "            df.at[idx, 'programme'] = 'Econometrics'\n",
    "        elif check_finance(programme):\n",
    "            df.at[idx, 'programme'] = 'Finance'\n",
    "        elif check_business(programme):\n",
    "            df.at[idx, 'programme'] = 'Business Analytics'\n",
    "        elif check_bioinformatics(programme):\n",
    "            df.at[idx, 'programme'] = 'Bioinformatics'\n",
    "        else:\n",
    "            df.at[idx, 'programme'] = 'Other'\n",
    "            # print(df.at[idx, 'programme'])\n",
    "    return df"
   ]
  },
  {
   "cell_type": "code",
   "execution_count": 5,
   "id": "4503ec4c-dc05-4a4d-89de-d97a415bcd89",
   "metadata": {},
   "outputs": [],
   "source": [
    "def convert_course_experience(df):\n",
    "    for column in ['machine_learning', 'information_retrieval', 'statistics', 'databases']:\n",
    "        for idx, value in df[column].items():\n",
    "            if value in ['yes', '1', 'mu', 'ja']:\n",
    "                df.at[idx, column] = 'yes'\n",
    "            elif value in ['no', '0', 'sigma', 'nee']:\n",
    "                df.at[idx, column] = 'no'\n",
    "    return df"
   ]
  },
  {
   "cell_type": "code",
   "execution_count": 6,
   "id": "0dc6831d-4cc2-4595-bcda-592e19ef7ff3",
   "metadata": {},
   "outputs": [],
   "source": [
    "def convert_gender(df):\n",
    "    for idx, value in df['gender'].items():\n",
    "        if value != 'male' and value != 'female':\n",
    "            df.at[idx, 'gender'] = 'other'\n",
    "    return df"
   ]
  },
  {
   "cell_type": "code",
   "execution_count": 7,
   "id": "59738de6-e59d-49c9-9af7-9422ae56adf9",
   "metadata": {},
   "outputs": [],
   "source": [
    "def convert_birthdays(df):\n",
    "    for idx, value in df['birthday'].items():\n",
    "        value = str(value)\n",
    "        if re.match(r'^\\d{2}-\\d{2}-\\d{4}$', value):\n",
    "            # dd-mm-yyyy\n",
    "            df.at[idx, 'birthday'] = value.replace('-', '/')\n",
    "        elif re.match(r'^\\d{2}-\\d{2}-\\d{2}$', value):\n",
    "            # mm-dd-yy\n",
    "            mm, dd, yy = value.split('-')\n",
    "            century = '20' if int(yy) <= 25 else '19'\n",
    "            formatted_value = f\"{dd}/{mm}/{century}{yy}\"\n",
    "            df.at[idx, 'birthday'] = formatted_value\n",
    "        elif re.match(r'^\\d{8}$', value):\n",
    "            # ddmmyyyy\n",
    "            if float(value[4:]) > 1925:\n",
    "                formatted_value = f\"{value[:2]}/{value[2:4]}/{value[4:]}\"\n",
    "                df.at[idx, 'birthday'] = formatted_value\n",
    "        elif re.match(r'^\\d{2}\\.\\d{2}\\.\\d{4}$', value):\n",
    "            # dd.mm.yyyy\n",
    "            df.at[idx, 'birthday'] = value.replace('.', '/')\n",
    "        elif re.match(r'^\\d{4}\\.\\d{2}\\.\\d{2}$', value):\n",
    "            # yyyy.mm.dd\n",
    "            yyyy, mm, dd = value.split('.')\n",
    "            formatted_value = f\"{dd}/{mm}/{yyyy}\"\n",
    "            df.at[idx, 'birthday'] = formatted_value\n",
    "        elif re.match(r'^\\d{4}-\\d{2}-\\d{2}$', value):\n",
    "            # yyyy-mm-dd\n",
    "            yyyy, mm, dd = value.split('-')\n",
    "            formatted_value = f\"{dd}/{mm}/{yyyy}\"\n",
    "            df.at[idx, 'birthday'] = formatted_value\n",
    "        elif re.match(r'^\\d{2} \\d{2} \\d{4}$', value):\n",
    "            # dd mm yyyy\n",
    "            df.at[idx, 'birthday'] = value.replace(' ', '/')\n",
    "    return df"
   ]
  },
  {
   "cell_type": "code",
   "execution_count": 8,
   "id": "50e27cc0-6668-4e48-b804-3465fadbd3b6",
   "metadata": {},
   "outputs": [],
   "source": [
    "def remove_non_numeric(x):\n",
    "    x = str(x)\n",
    "    x = re.sub(r'[^0-9.,E+\\-]', '', x)\n",
    "    if '-' in x[1:]:\n",
    "        x = x.split('-', 1)[0]\n",
    "    if x.count('E') > 1:\n",
    "        x = x.replace('E', '')\n",
    "    \n",
    "    return x"
   ]
  },
  {
   "cell_type": "code",
   "execution_count": 9,
   "id": "9cbb4d55-a162-47f3-841a-412c5dcecbaa",
   "metadata": {},
   "outputs": [],
   "source": [
    "def remove_non_numeric_in_column(df, column):\n",
    "    df[column] = df[column].apply(\n",
    "        lambda x: remove_non_numeric(x)\n",
    "    )\n",
    "    return df"
   ]
  },
  {
   "cell_type": "code",
   "execution_count": 10,
   "id": "b25b99c1-5f94-429e-9431-0788f01c9325",
   "metadata": {},
   "outputs": [],
   "source": [
    "def clean_and_convert_student_estimate(df):\n",
    "    df = remove_non_numeric_in_column(df, 'student_estimate')\n",
    "    df['student_estimate'] = df['student_estimate'].replace('', np.nan)\n",
    "    df['student_estimate'] = df['student_estimate'].astype(float)\n",
    "    return df"
   ]
  },
  {
   "cell_type": "code",
   "execution_count": 11,
   "id": "ebcffdb5-04ae-4489-bcf0-4cac8e81dd39",
   "metadata": {},
   "outputs": [],
   "source": [
    "def clean_and_convert_stress(df):\n",
    "    df['stress'] = df['stress'].astype(str)\n",
    "    df['stress'] = df['stress'].apply(lambda x: re.sub(',', '.', x))\n",
    "    df = remove_non_numeric_in_column(df, 'stress')\n",
    "    df['stress'] = df['stress'].replace('', np.nan)\n",
    "    df['stress'] = df['stress'].astype(float)\n",
    "    return df"
   ]
  },
  {
   "cell_type": "code",
   "execution_count": 12,
   "id": "aaaa4a34-ab43-457a-b67f-71619cf1c3b5",
   "metadata": {},
   "outputs": [],
   "source": [
    "def clean_and_convert_sports(df):\n",
    "    df['sports'] = df['sports'].astype(str)\n",
    "    for idx, value in df['sports'].items():\n",
    "        if value == 'zero':\n",
    "            # the one case that had value 'zero'\n",
    "            df.at[idx, 'sports'] = str(0)\n",
    "        elif bool(re.search(r'-', value)):\n",
    "            # range a-b\n",
    "            lower, higher = value.split('-')\n",
    "            df.at[idx, 'sports'] = lower\n",
    "        elif bool(re.search(r'[.,]', value)):\n",
    "            # decimal (question asked for whole hours)\n",
    "            integral, _ = re.split(r'[.,]', value, maxsplit=1)\n",
    "            df.at[idx, 'sports'] = integral\n",
    "    df = remove_non_numeric_in_column(df, 'sports')\n",
    "    df['sports'] = df['sports'].replace('', np.nan)\n",
    "    df['sports'] = df['sports'].astype(float)\n",
    "    return df"
   ]
  },
  {
   "cell_type": "code",
   "execution_count": 13,
   "id": "f358bd87-6d0b-441d-8d98-3ba7a3b51e84",
   "metadata": {},
   "outputs": [],
   "source": [
    "def clean_and_convert_random_number(df):\n",
    "    df['random_number'] = df['random_number'].astype(str)\n",
    "    # international notation '.' = decimal, ',' = exponent of 10^3\n",
    "    df['random_number'] = df['random_number'].apply(\n",
    "        lambda x: re.sub(r'\\.', '', x) if x.count('.') > 1 else x\n",
    "    )\n",
    "    df['random_number'] = df['random_number'].apply(\n",
    "        lambda x: re.sub(r',', '.', x) if x.count(',') == 1 else x\n",
    "    )\n",
    "    df = remove_non_numeric_in_column(df, 'random_number')\n",
    "    df['random_number'] = df['random_number'].replace('', np.nan)\n",
    "    df['random_number'] = df['random_number'].astype(float)\n",
    "    return df"
   ]
  },
  {
   "cell_type": "code",
   "execution_count": 14,
   "id": "b673c86a-4a7f-4eb5-9001-665dff615ef8",
   "metadata": {},
   "outputs": [],
   "source": [
    "def convert_to_military_time(time_string):\n",
    "    formats = [\n",
    "        \"%H:%M\", \"%Hh%M\", \"%Hu%M\", \"%H.%M\", \"%I.%M\", \"%H-%M\",\n",
    "        \"%H\", \"%I\", \"%H%M\", \"%I%M\", \"%I%p\", \"%H%p\",\n",
    "        \"%H:%M %p\", \"%I:%M %p\", \"%H %p\", \"%I %p\",\n",
    "        \"%H:%M%p\", \"%I:%M%p\", \"%I.%M%p\"\n",
    "    ]\n",
    "    \n",
    "    for format in formats:\n",
    "        try:\n",
    "            dt = datetime.strptime(time_string.strip().lower(), format)\n",
    "            # Round minutes\n",
    "            minute = dt.minute\n",
    "            if minute < 15:\n",
    "                rounded_minute = 0\n",
    "            elif minute < 45:\n",
    "                rounded_minute = 30\n",
    "            else:\n",
    "                dt += timedelta(hours=1)\n",
    "                rounded_minute = 0\n",
    "            dt = dt.replace(minute=rounded_minute, second=0, microsecond=0)\n",
    "            if 9 <= dt.hour <= 12:\n",
    "                dt = dt.replace(hour=(dt.hour + 12) % 24)\n",
    "            return dt.strftime(\"%H:%M\")\n",
    "        except ValueError:\n",
    "            continue\n",
    "\n",
    "    print(f\"Could not parse time_string: {time_string}\")\n",
    "    return time_string"
   ]
  },
  {
   "cell_type": "code",
   "execution_count": 15,
   "id": "6c580661-ff3b-4a5b-8139-ea170429f836",
   "metadata": {},
   "outputs": [],
   "source": [
    "def convert_bedtime(df):\n",
    "    for idx, value in df['bedtime'].items():\n",
    "        df.at[idx, 'bedtime'] = convert_to_military_time(value)\n",
    "    return df"
   ]
  },
  {
   "cell_type": "code",
   "execution_count": 16,
   "id": "7ac1b5db-1a10-4d2c-b7f3-f690970aa5d7",
   "metadata": {},
   "outputs": [],
   "source": [
    "def clean_and_save(df):\n",
    "    df.drop(df.tail(1).index,inplace=True)\n",
    "    df = clean_programmes(df)\n",
    "    df = convert_course_experience(df)\n",
    "    df = convert_birthdays(df)\n",
    "    df = clean_and_convert_student_estimate(df)\n",
    "    df = clean_and_convert_stress(df)\n",
    "    df = clean_and_convert_sports(df)\n",
    "    df = clean_and_convert_random_number(df)\n",
    "    df = convert_bedtime(df)\n",
    "    save_dataframe_to_file(df, 'DMT_Data.csv')"
   ]
  },
  {
   "cell_type": "code",
   "execution_count": 17,
   "id": "100e2eac-0a90-4b8d-b3fc-739d58d4034e",
   "metadata": {},
   "outputs": [
    {
     "name": "stdout",
     "output_type": "stream",
     "text": [
      "Could not parse time_string: Midnight\n",
      "Could not parse time_string: 3 AM x)\n",
      "Could not parse time_string: around midnight\n",
      "Could not parse time_string: 1743502757\n"
     ]
    }
   ],
   "source": [
    "clean_and_save(import_raw_data())"
   ]
  },
  {
   "cell_type": "markdown",
   "id": "5317e00e-715a-45bc-9484-3933ca4dd1a9",
   "metadata": {},
   "source": [
    "After data formatting and saving to DMT_Data.csv, some birthdays were manually adjusted to fit the format dd/mm/yyyy, and some bedtimes to hh:mm. Furthermore, rows 174, 240 were removed for being invalid. The result was saved to DMT_Data_Manual.csv."
   ]
  },
  {
   "cell_type": "markdown",
   "id": "721fbbe2-249f-427d-860f-d9813287f8c0",
   "metadata": {},
   "source": [
    "### Combining Data"
   ]
  },
  {
   "cell_type": "code",
   "execution_count": 18,
   "id": "fbb18516-6c90-4fcf-8e32-dc5b01d1afad",
   "metadata": {},
   "outputs": [],
   "source": [
    "def calculate_age(df):\n",
    "    df['birthday'] = pd.to_datetime(df['birthday'], format='%d/%m/%Y', errors='coerce')\n",
    "    df['timestamp'] = pd.to_datetime(df['timestamp'], errors='coerce')\n",
    "    \n",
    "    df['age'] = df.apply(\n",
    "        lambda row: (row['timestamp'].year - row['birthday'].year) \n",
    "                    - ((row['timestamp'].month, row['timestamp'].day) < \n",
    "                       (row['birthday'].month, row['birthday'].day)),\n",
    "        axis=1\n",
    "    ).astype(float)\n",
    "    return df"
   ]
  },
  {
   "cell_type": "code",
   "execution_count": 19,
   "id": "5cbdac94-e30c-4cf8-811b-0cc39c973c2d",
   "metadata": {},
   "outputs": [],
   "source": [
    "df = import_data('DMT_Data_Manual.csv')\n",
    "save_dataframe_to_file(calculate_age(df), 'DMT_Data_Age.csv')"
   ]
  },
  {
   "cell_type": "markdown",
   "id": "f478b65b-4d0d-4210-8894-fe1d64da010c",
   "metadata": {},
   "source": [
    "### Removing Invalid Data\n",
    "Removal of data based on values outside of a realistic/predetermined range."
   ]
  },
  {
   "cell_type": "code",
   "execution_count": 20,
   "id": "aa5d6719-a772-4747-bbbb-5853c0f7e832",
   "metadata": {},
   "outputs": [],
   "source": [
    "def remove_invalid_ages(df):\n",
    "    df['age'] = df['age'].where((df['age'] >= 16) & (df['age'] <= 80), np.nan)\n",
    "    return df"
   ]
  },
  {
   "cell_type": "code",
   "execution_count": 21,
   "id": "5d7c4cf3-1de5-4b7b-be11-5c3e1f245166",
   "metadata": {},
   "outputs": [],
   "source": [
    "def remove_invalid_student_estimates(df):\n",
    "    df['student_estimate'] = df['student_estimate'].where((df['student_estimate'] >= 50) & (df['student_estimate'] <= 800), np.nan)\n",
    "    return df"
   ]
  },
  {
   "cell_type": "code",
   "execution_count": 22,
   "id": "01bb23f2-847d-497d-a69c-e5848d4091ec",
   "metadata": {},
   "outputs": [],
   "source": [
    "def remove_invalid_stress(df):\n",
    "    df['stress'] = df['stress'].where((df['stress'] >= 0) & (df['stress'] <= 100), np.nan)\n",
    "    return df"
   ]
  },
  {
   "cell_type": "code",
   "execution_count": 23,
   "id": "c7c9b4ac-0087-4949-8782-4f8788c6ae96",
   "metadata": {},
   "outputs": [],
   "source": [
    "def remove_invalid_sports(df):\n",
    "    df['sports'] = df['sports'].where((df['sports'] >= 0) & (df['sports'] <= 40), np.nan)\n",
    "    return df"
   ]
  },
  {
   "cell_type": "code",
   "execution_count": 24,
   "id": "b17a36c8-7f40-43ad-9cda-410168689f75",
   "metadata": {},
   "outputs": [],
   "source": [
    "def remove_invalid_bedtimes(df):\n",
    "    pattern = r'^\\d{2}:\\d{2}$'\n",
    "    df['bedtime'] = df['bedtime'].astype(str).apply(\n",
    "        lambda x: x if re.match(pattern, x) else np.nan\n",
    "    )\n",
    "    return df"
   ]
  },
  {
   "cell_type": "code",
   "execution_count": 25,
   "id": "1de1c4d1-7308-4127-a1dc-09cd5c5fa87f",
   "metadata": {},
   "outputs": [],
   "source": [
    "def remove_invalid_data(df):\n",
    "    df = remove_invalid_ages(df)\n",
    "    df = remove_invalid_student_estimates(df)\n",
    "    df = remove_invalid_stress(df)\n",
    "    df = remove_invalid_sports(df)\n",
    "    df = remove_invalid_bedtimes(df)\n",
    "    save_dataframe_to_file(df, 'DMT_Data_Clean.csv')"
   ]
  },
  {
   "cell_type": "code",
   "execution_count": 27,
   "id": "f3164470-0972-4f57-8561-4c485cfe67b4",
   "metadata": {},
   "outputs": [],
   "source": [
    "remove_invalid_data(import_data('DMT_Data_Age.csv'))"
   ]
  },
  {
   "cell_type": "markdown",
   "id": "b532d01e-6aef-460c-a103-f7b60a53a382",
   "metadata": {},
   "source": [
    "### Imputation\n",
    "Replacing missing values\n",
    "#### Method 1: Replace with Median"
   ]
  },
  {
   "cell_type": "code",
   "execution_count": 28,
   "id": "311283a8-2445-4324-a85a-5aaadd032721",
   "metadata": {},
   "outputs": [],
   "source": [
    "def median_bedtime(bedtimes):\n",
    "    bedtimes_DT = pd.to_datetime(bedtimes, format='%H:%M', errors='coerce')\n",
    "    bedtimes_seconds = (bedtimes_DT.dt.hour * 3600 + bedtimes_DT.dt.minute * 60)\n",
    "    # Center around midnight s.t. 22:00 becomes -02:00\n",
    "    bedtimes_centered = bedtimes_seconds.apply(lambda s: s - (24 * 3600) if s > (12 * 3600) else s)\n",
    "    median_seconds = bedtimes_centered.median()\n",
    "    median_time = (datetime.min + timedelta(seconds=median_seconds)).strftime('%H:%M')\n",
    "    return median_time"
   ]
  },
  {
   "cell_type": "code",
   "execution_count": 29,
   "id": "ace9ff94-0536-4839-ab98-8013c56d8c76",
   "metadata": {},
   "outputs": [],
   "source": [
    "def impute_median(df):\n",
    "    cols = ['student_estimate', 'stress', 'sports', 'bedtime', 'age']\n",
    "    for col in cols:\n",
    "        if col == 'bedtime':\n",
    "            median = median_bedtime(df[col])\n",
    "        else:\n",
    "            median = df[col].median()\n",
    "        print('median for col ' + col + ': ' + str(median))\n",
    "        df[col] = df[col].fillna(median)\n",
    "    return df"
   ]
  },
  {
   "cell_type": "code",
   "execution_count": 30,
   "id": "a41730d7-0f89-48ae-8ca4-3211d23d9768",
   "metadata": {},
   "outputs": [
    {
     "name": "stdout",
     "output_type": "stream",
     "text": [
      "median for col student_estimate: 350.0\n",
      "median for col stress: 40.0\n",
      "median for col sports: 5.0\n",
      "median for col bedtime: 00:30\n",
      "median for col age: 23.0\n"
     ]
    }
   ],
   "source": [
    "save_dataframe_to_file(impute_median(import_data('DMT_Data_Clean.csv')), 'DMT_Data_Median.csv')"
   ]
  },
  {
   "cell_type": "markdown",
   "id": "d13c4843-54c6-4d5d-94f1-7020e3671cab",
   "metadata": {},
   "source": [
    "## Plotting"
   ]
  },
  {
   "cell_type": "code",
   "execution_count": 31,
   "id": "2ab0aed2-5f43-4065-996d-f48f67cecb88",
   "metadata": {},
   "outputs": [],
   "source": [
    "def plot_bedtimes(df):\n",
    "    bedtimes_DT = pd.to_datetime(df['bedtime'], format='%H:%M', errors='coerce')\n",
    "    bedtimes_seconds = bedtimes_DT.dt.hour * 3600 + bedtimes_DT.dt.minute * 60\n",
    "\n",
    "    # Center bedtimes around midnight\n",
    "    half_day = 43200  # 12 hours in seconds\n",
    "    centered_bedtimes = bedtimes_seconds.apply(lambda x: x - 86400 if x > half_day else x)\n",
    "    \n",
    "    # Sort centered bedtimes\n",
    "    sorted_bedtimes = np.sort(centered_bedtimes)\n",
    "\n",
    "    # Create the histogram from sorted values\n",
    "    counts = pd.Series(sorted_bedtimes).value_counts().sort_index()\n",
    "\n",
    "    plt.figure(figsize=(10, 6))\n",
    "    counts.plot(kind='bar', color='skyblue', edgecolor='black')\n",
    "    plt.title(f\"Histogram of bedtimes\")\n",
    "    plt.xlabel(\"bedtime\")\n",
    "    plt.ylabel(\"Count\")\n",
    "    tick_labels = [str(datetime.utcfromtimestamp(x).strftime('%H:%M')) for x in counts.index]  # Convert seconds to hh:mm\n",
    "    plt.xticks(ticks=np.arange(len(tick_labels)), labels=tick_labels, rotation=90)\n",
    "    plt.grid(axis='y', linestyle='--', alpha=0.7)\n",
    "    plt.tight_layout()\n",
    "    plt.show()"
   ]
  },
  {
   "cell_type": "code",
   "execution_count": 32,
   "id": "12878775-6f9e-4174-ab61-8caed410ad8a",
   "metadata": {},
   "outputs": [],
   "source": [
    "def plot_stress(df):\n",
    "    plt.figure(figsize=(10, 6))\n",
    "    df['stress'].plot(kind='hist', bins=10, color='skyblue', edgecolor='black', alpha=0.7)\n",
    "    \n",
    "    plt.title(\"Histogram of Stress\")\n",
    "    plt.xlabel(\"Stress\")\n",
    "    plt.ylabel(\"Count\")\n",
    "    plt.grid(axis='y', linestyle='--', alpha=0.7)\n",
    "    plt.tight_layout()\n",
    "    plt.show()"
   ]
  },
  {
   "cell_type": "code",
   "execution_count": 33,
   "id": "c4b4f40f-8822-4aea-978d-4f352ee66725",
   "metadata": {},
   "outputs": [],
   "source": [
    "def plot_dist(df, column):\n",
    "    plt.figure(figsize=(10, 6))\n",
    "    df[column].plot(kind='hist', bins=10, color='skyblue', edgecolor='black', alpha=0.7)\n",
    "    \n",
    "    plt.title(f\"Histogram of '{column}'\")\n",
    "    plt.xlabel(column)\n",
    "    plt.ylabel(\"Count\")\n",
    "    plt.grid(axis='y', linestyle='--', alpha=0.7)\n",
    "    plt.tight_layout()\n",
    "    plt.show()"
   ]
  },
  {
   "cell_type": "code",
   "execution_count": 36,
   "id": "74d66f51-8559-45d8-b63b-a78d39be3d86",
   "metadata": {},
   "outputs": [],
   "source": [
    "def plot_numerical_imputations():\n",
    "    cols = ['student_estimate', 'stress', 'sports', 'bedtime', 'age']\n",
    "    df_med = import_data('DMT_Data_Median.csv')\n",
    "    df_na = import_data('DMT_Data_Clean.csv')\n",
    "    for col in cols:\n",
    "        if col == 'bedtime':\n",
    "            plot_bedtimes(df_med)\n",
    "            plot_bedtimes(df_na)\n",
    "        else:\n",
    "            plot_dist(df_med, col)\n",
    "            plot_dist(df_na, col)"
   ]
  },
  {
   "cell_type": "code",
   "execution_count": 35,
   "id": "d936121a-6863-47ee-ae94-908fcb8dd478",
   "metadata": {},
   "outputs": [
    {
     "ename": "FileNotFoundError",
     "evalue": "[Errno 2] No such file or directory: 'files/DMT_Data_2.csv'",
     "output_type": "error",
     "traceback": [
      "\u001b[1;31m---------------------------------------------------------------------------\u001b[0m",
      "\u001b[1;31mFileNotFoundError\u001b[0m                         Traceback (most recent call last)",
      "Cell \u001b[1;32mIn[35], line 1\u001b[0m\n\u001b[1;32m----> 1\u001b[0m \u001b[43mplot_numerical_imputations\u001b[49m\u001b[43m(\u001b[49m\u001b[43m)\u001b[49m\n",
      "Cell \u001b[1;32mIn[34], line 4\u001b[0m, in \u001b[0;36mplot_numerical_imputations\u001b[1;34m()\u001b[0m\n\u001b[0;32m      2\u001b[0m cols \u001b[38;5;241m=\u001b[39m [\u001b[38;5;124m'\u001b[39m\u001b[38;5;124mstudent_estimate\u001b[39m\u001b[38;5;124m'\u001b[39m, \u001b[38;5;124m'\u001b[39m\u001b[38;5;124mstress\u001b[39m\u001b[38;5;124m'\u001b[39m, \u001b[38;5;124m'\u001b[39m\u001b[38;5;124msports\u001b[39m\u001b[38;5;124m'\u001b[39m, \u001b[38;5;124m'\u001b[39m\u001b[38;5;124mbedtime\u001b[39m\u001b[38;5;124m'\u001b[39m, \u001b[38;5;124m'\u001b[39m\u001b[38;5;124mage\u001b[39m\u001b[38;5;124m'\u001b[39m]\n\u001b[0;32m      3\u001b[0m df_med \u001b[38;5;241m=\u001b[39m import_data(\u001b[38;5;124m'\u001b[39m\u001b[38;5;124mDMT_Data_Median.csv\u001b[39m\u001b[38;5;124m'\u001b[39m)\n\u001b[1;32m----> 4\u001b[0m df_na \u001b[38;5;241m=\u001b[39m \u001b[43mimport_data\u001b[49m\u001b[43m(\u001b[49m\u001b[38;5;124;43m'\u001b[39;49m\u001b[38;5;124;43mDMT_Data_2.csv\u001b[39;49m\u001b[38;5;124;43m'\u001b[39;49m\u001b[43m)\u001b[49m\n\u001b[0;32m      5\u001b[0m \u001b[38;5;28;01mfor\u001b[39;00m col \u001b[38;5;129;01min\u001b[39;00m cols:\n\u001b[0;32m      6\u001b[0m     \u001b[38;5;28;01mif\u001b[39;00m col \u001b[38;5;241m==\u001b[39m \u001b[38;5;124m'\u001b[39m\u001b[38;5;124mbedtime\u001b[39m\u001b[38;5;124m'\u001b[39m:\n",
      "Cell \u001b[1;32mIn[2], line 56\u001b[0m, in \u001b[0;36mimport_data\u001b[1;34m(filename)\u001b[0m\n\u001b[0;32m     55\u001b[0m \u001b[38;5;28;01mdef\u001b[39;00m \u001b[38;5;21mimport_data\u001b[39m(filename):\n\u001b[1;32m---> 56\u001b[0m     \u001b[38;5;28;01mreturn\u001b[39;00m \u001b[43mpd\u001b[49m\u001b[38;5;241;43m.\u001b[39;49m\u001b[43mread_csv\u001b[49m\u001b[43m(\u001b[49m\u001b[38;5;124;43m'\u001b[39;49m\u001b[38;5;124;43mfiles/\u001b[39;49m\u001b[38;5;124;43m'\u001b[39;49m\u001b[43m \u001b[49m\u001b[38;5;241;43m+\u001b[39;49m\u001b[43m \u001b[49m\u001b[43mfilename\u001b[49m\u001b[43m,\u001b[49m\u001b[43m \u001b[49m\u001b[43msep\u001b[49m\u001b[38;5;241;43m=\u001b[39;49m\u001b[38;5;124;43m'\u001b[39;49m\u001b[38;5;124;43m;\u001b[39;49m\u001b[38;5;124;43m'\u001b[39;49m\u001b[43m)\u001b[49m\n",
      "File \u001b[1;32mC:\\Python311\\Lib\\site-packages\\pandas\\util\\_decorators.py:211\u001b[0m, in \u001b[0;36mdeprecate_kwarg.<locals>._deprecate_kwarg.<locals>.wrapper\u001b[1;34m(*args, **kwargs)\u001b[0m\n\u001b[0;32m    209\u001b[0m     \u001b[38;5;28;01melse\u001b[39;00m:\n\u001b[0;32m    210\u001b[0m         kwargs[new_arg_name] \u001b[38;5;241m=\u001b[39m new_arg_value\n\u001b[1;32m--> 211\u001b[0m \u001b[38;5;28;01mreturn\u001b[39;00m \u001b[43mfunc\u001b[49m\u001b[43m(\u001b[49m\u001b[38;5;241;43m*\u001b[39;49m\u001b[43margs\u001b[49m\u001b[43m,\u001b[49m\u001b[43m \u001b[49m\u001b[38;5;241;43m*\u001b[39;49m\u001b[38;5;241;43m*\u001b[39;49m\u001b[43mkwargs\u001b[49m\u001b[43m)\u001b[49m\n",
      "File \u001b[1;32mC:\\Python311\\Lib\\site-packages\\pandas\\util\\_decorators.py:331\u001b[0m, in \u001b[0;36mdeprecate_nonkeyword_arguments.<locals>.decorate.<locals>.wrapper\u001b[1;34m(*args, **kwargs)\u001b[0m\n\u001b[0;32m    325\u001b[0m \u001b[38;5;28;01mif\u001b[39;00m \u001b[38;5;28mlen\u001b[39m(args) \u001b[38;5;241m>\u001b[39m num_allow_args:\n\u001b[0;32m    326\u001b[0m     warnings\u001b[38;5;241m.\u001b[39mwarn(\n\u001b[0;32m    327\u001b[0m         msg\u001b[38;5;241m.\u001b[39mformat(arguments\u001b[38;5;241m=\u001b[39m_format_argument_list(allow_args)),\n\u001b[0;32m    328\u001b[0m         \u001b[38;5;167;01mFutureWarning\u001b[39;00m,\n\u001b[0;32m    329\u001b[0m         stacklevel\u001b[38;5;241m=\u001b[39mfind_stack_level(),\n\u001b[0;32m    330\u001b[0m     )\n\u001b[1;32m--> 331\u001b[0m \u001b[38;5;28;01mreturn\u001b[39;00m \u001b[43mfunc\u001b[49m\u001b[43m(\u001b[49m\u001b[38;5;241;43m*\u001b[39;49m\u001b[43margs\u001b[49m\u001b[43m,\u001b[49m\u001b[43m \u001b[49m\u001b[38;5;241;43m*\u001b[39;49m\u001b[38;5;241;43m*\u001b[39;49m\u001b[43mkwargs\u001b[49m\u001b[43m)\u001b[49m\n",
      "File \u001b[1;32mC:\\Python311\\Lib\\site-packages\\pandas\\io\\parsers\\readers.py:950\u001b[0m, in \u001b[0;36mread_csv\u001b[1;34m(filepath_or_buffer, sep, delimiter, header, names, index_col, usecols, squeeze, prefix, mangle_dupe_cols, dtype, engine, converters, true_values, false_values, skipinitialspace, skiprows, skipfooter, nrows, na_values, keep_default_na, na_filter, verbose, skip_blank_lines, parse_dates, infer_datetime_format, keep_date_col, date_parser, dayfirst, cache_dates, iterator, chunksize, compression, thousands, decimal, lineterminator, quotechar, quoting, doublequote, escapechar, comment, encoding, encoding_errors, dialect, error_bad_lines, warn_bad_lines, on_bad_lines, delim_whitespace, low_memory, memory_map, float_precision, storage_options)\u001b[0m\n\u001b[0;32m    935\u001b[0m kwds_defaults \u001b[38;5;241m=\u001b[39m _refine_defaults_read(\n\u001b[0;32m    936\u001b[0m     dialect,\n\u001b[0;32m    937\u001b[0m     delimiter,\n\u001b[1;32m   (...)\u001b[0m\n\u001b[0;32m    946\u001b[0m     defaults\u001b[38;5;241m=\u001b[39m{\u001b[38;5;124m\"\u001b[39m\u001b[38;5;124mdelimiter\u001b[39m\u001b[38;5;124m\"\u001b[39m: \u001b[38;5;124m\"\u001b[39m\u001b[38;5;124m,\u001b[39m\u001b[38;5;124m\"\u001b[39m},\n\u001b[0;32m    947\u001b[0m )\n\u001b[0;32m    948\u001b[0m kwds\u001b[38;5;241m.\u001b[39mupdate(kwds_defaults)\n\u001b[1;32m--> 950\u001b[0m \u001b[38;5;28;01mreturn\u001b[39;00m \u001b[43m_read\u001b[49m\u001b[43m(\u001b[49m\u001b[43mfilepath_or_buffer\u001b[49m\u001b[43m,\u001b[49m\u001b[43m \u001b[49m\u001b[43mkwds\u001b[49m\u001b[43m)\u001b[49m\n",
      "File \u001b[1;32mC:\\Python311\\Lib\\site-packages\\pandas\\io\\parsers\\readers.py:605\u001b[0m, in \u001b[0;36m_read\u001b[1;34m(filepath_or_buffer, kwds)\u001b[0m\n\u001b[0;32m    602\u001b[0m _validate_names(kwds\u001b[38;5;241m.\u001b[39mget(\u001b[38;5;124m\"\u001b[39m\u001b[38;5;124mnames\u001b[39m\u001b[38;5;124m\"\u001b[39m, \u001b[38;5;28;01mNone\u001b[39;00m))\n\u001b[0;32m    604\u001b[0m \u001b[38;5;66;03m# Create the parser.\u001b[39;00m\n\u001b[1;32m--> 605\u001b[0m parser \u001b[38;5;241m=\u001b[39m \u001b[43mTextFileReader\u001b[49m\u001b[43m(\u001b[49m\u001b[43mfilepath_or_buffer\u001b[49m\u001b[43m,\u001b[49m\u001b[43m \u001b[49m\u001b[38;5;241;43m*\u001b[39;49m\u001b[38;5;241;43m*\u001b[39;49m\u001b[43mkwds\u001b[49m\u001b[43m)\u001b[49m\n\u001b[0;32m    607\u001b[0m \u001b[38;5;28;01mif\u001b[39;00m chunksize \u001b[38;5;129;01mor\u001b[39;00m iterator:\n\u001b[0;32m    608\u001b[0m     \u001b[38;5;28;01mreturn\u001b[39;00m parser\n",
      "File \u001b[1;32mC:\\Python311\\Lib\\site-packages\\pandas\\io\\parsers\\readers.py:1442\u001b[0m, in \u001b[0;36mTextFileReader.__init__\u001b[1;34m(self, f, engine, **kwds)\u001b[0m\n\u001b[0;32m   1439\u001b[0m     \u001b[38;5;28mself\u001b[39m\u001b[38;5;241m.\u001b[39moptions[\u001b[38;5;124m\"\u001b[39m\u001b[38;5;124mhas_index_names\u001b[39m\u001b[38;5;124m\"\u001b[39m] \u001b[38;5;241m=\u001b[39m kwds[\u001b[38;5;124m\"\u001b[39m\u001b[38;5;124mhas_index_names\u001b[39m\u001b[38;5;124m\"\u001b[39m]\n\u001b[0;32m   1441\u001b[0m \u001b[38;5;28mself\u001b[39m\u001b[38;5;241m.\u001b[39mhandles: IOHandles \u001b[38;5;241m|\u001b[39m \u001b[38;5;28;01mNone\u001b[39;00m \u001b[38;5;241m=\u001b[39m \u001b[38;5;28;01mNone\u001b[39;00m\n\u001b[1;32m-> 1442\u001b[0m \u001b[38;5;28mself\u001b[39m\u001b[38;5;241m.\u001b[39m_engine \u001b[38;5;241m=\u001b[39m \u001b[38;5;28;43mself\u001b[39;49m\u001b[38;5;241;43m.\u001b[39;49m\u001b[43m_make_engine\u001b[49m\u001b[43m(\u001b[49m\u001b[43mf\u001b[49m\u001b[43m,\u001b[49m\u001b[43m \u001b[49m\u001b[38;5;28;43mself\u001b[39;49m\u001b[38;5;241;43m.\u001b[39;49m\u001b[43mengine\u001b[49m\u001b[43m)\u001b[49m\n",
      "File \u001b[1;32mC:\\Python311\\Lib\\site-packages\\pandas\\io\\parsers\\readers.py:1735\u001b[0m, in \u001b[0;36mTextFileReader._make_engine\u001b[1;34m(self, f, engine)\u001b[0m\n\u001b[0;32m   1733\u001b[0m     \u001b[38;5;28;01mif\u001b[39;00m \u001b[38;5;124m\"\u001b[39m\u001b[38;5;124mb\u001b[39m\u001b[38;5;124m\"\u001b[39m \u001b[38;5;129;01mnot\u001b[39;00m \u001b[38;5;129;01min\u001b[39;00m mode:\n\u001b[0;32m   1734\u001b[0m         mode \u001b[38;5;241m+\u001b[39m\u001b[38;5;241m=\u001b[39m \u001b[38;5;124m\"\u001b[39m\u001b[38;5;124mb\u001b[39m\u001b[38;5;124m\"\u001b[39m\n\u001b[1;32m-> 1735\u001b[0m \u001b[38;5;28mself\u001b[39m\u001b[38;5;241m.\u001b[39mhandles \u001b[38;5;241m=\u001b[39m \u001b[43mget_handle\u001b[49m\u001b[43m(\u001b[49m\n\u001b[0;32m   1736\u001b[0m \u001b[43m    \u001b[49m\u001b[43mf\u001b[49m\u001b[43m,\u001b[49m\n\u001b[0;32m   1737\u001b[0m \u001b[43m    \u001b[49m\u001b[43mmode\u001b[49m\u001b[43m,\u001b[49m\n\u001b[0;32m   1738\u001b[0m \u001b[43m    \u001b[49m\u001b[43mencoding\u001b[49m\u001b[38;5;241;43m=\u001b[39;49m\u001b[38;5;28;43mself\u001b[39;49m\u001b[38;5;241;43m.\u001b[39;49m\u001b[43moptions\u001b[49m\u001b[38;5;241;43m.\u001b[39;49m\u001b[43mget\u001b[49m\u001b[43m(\u001b[49m\u001b[38;5;124;43m\"\u001b[39;49m\u001b[38;5;124;43mencoding\u001b[39;49m\u001b[38;5;124;43m\"\u001b[39;49m\u001b[43m,\u001b[49m\u001b[43m \u001b[49m\u001b[38;5;28;43;01mNone\u001b[39;49;00m\u001b[43m)\u001b[49m\u001b[43m,\u001b[49m\n\u001b[0;32m   1739\u001b[0m \u001b[43m    \u001b[49m\u001b[43mcompression\u001b[49m\u001b[38;5;241;43m=\u001b[39;49m\u001b[38;5;28;43mself\u001b[39;49m\u001b[38;5;241;43m.\u001b[39;49m\u001b[43moptions\u001b[49m\u001b[38;5;241;43m.\u001b[39;49m\u001b[43mget\u001b[49m\u001b[43m(\u001b[49m\u001b[38;5;124;43m\"\u001b[39;49m\u001b[38;5;124;43mcompression\u001b[39;49m\u001b[38;5;124;43m\"\u001b[39;49m\u001b[43m,\u001b[49m\u001b[43m \u001b[49m\u001b[38;5;28;43;01mNone\u001b[39;49;00m\u001b[43m)\u001b[49m\u001b[43m,\u001b[49m\n\u001b[0;32m   1740\u001b[0m \u001b[43m    \u001b[49m\u001b[43mmemory_map\u001b[49m\u001b[38;5;241;43m=\u001b[39;49m\u001b[38;5;28;43mself\u001b[39;49m\u001b[38;5;241;43m.\u001b[39;49m\u001b[43moptions\u001b[49m\u001b[38;5;241;43m.\u001b[39;49m\u001b[43mget\u001b[49m\u001b[43m(\u001b[49m\u001b[38;5;124;43m\"\u001b[39;49m\u001b[38;5;124;43mmemory_map\u001b[39;49m\u001b[38;5;124;43m\"\u001b[39;49m\u001b[43m,\u001b[49m\u001b[43m \u001b[49m\u001b[38;5;28;43;01mFalse\u001b[39;49;00m\u001b[43m)\u001b[49m\u001b[43m,\u001b[49m\n\u001b[0;32m   1741\u001b[0m \u001b[43m    \u001b[49m\u001b[43mis_text\u001b[49m\u001b[38;5;241;43m=\u001b[39;49m\u001b[43mis_text\u001b[49m\u001b[43m,\u001b[49m\n\u001b[0;32m   1742\u001b[0m \u001b[43m    \u001b[49m\u001b[43merrors\u001b[49m\u001b[38;5;241;43m=\u001b[39;49m\u001b[38;5;28;43mself\u001b[39;49m\u001b[38;5;241;43m.\u001b[39;49m\u001b[43moptions\u001b[49m\u001b[38;5;241;43m.\u001b[39;49m\u001b[43mget\u001b[49m\u001b[43m(\u001b[49m\u001b[38;5;124;43m\"\u001b[39;49m\u001b[38;5;124;43mencoding_errors\u001b[39;49m\u001b[38;5;124;43m\"\u001b[39;49m\u001b[43m,\u001b[49m\u001b[43m \u001b[49m\u001b[38;5;124;43m\"\u001b[39;49m\u001b[38;5;124;43mstrict\u001b[39;49m\u001b[38;5;124;43m\"\u001b[39;49m\u001b[43m)\u001b[49m\u001b[43m,\u001b[49m\n\u001b[0;32m   1743\u001b[0m \u001b[43m    \u001b[49m\u001b[43mstorage_options\u001b[49m\u001b[38;5;241;43m=\u001b[39;49m\u001b[38;5;28;43mself\u001b[39;49m\u001b[38;5;241;43m.\u001b[39;49m\u001b[43moptions\u001b[49m\u001b[38;5;241;43m.\u001b[39;49m\u001b[43mget\u001b[49m\u001b[43m(\u001b[49m\u001b[38;5;124;43m\"\u001b[39;49m\u001b[38;5;124;43mstorage_options\u001b[39;49m\u001b[38;5;124;43m\"\u001b[39;49m\u001b[43m,\u001b[49m\u001b[43m \u001b[49m\u001b[38;5;28;43;01mNone\u001b[39;49;00m\u001b[43m)\u001b[49m\u001b[43m,\u001b[49m\n\u001b[0;32m   1744\u001b[0m \u001b[43m\u001b[49m\u001b[43m)\u001b[49m\n\u001b[0;32m   1745\u001b[0m \u001b[38;5;28;01massert\u001b[39;00m \u001b[38;5;28mself\u001b[39m\u001b[38;5;241m.\u001b[39mhandles \u001b[38;5;129;01mis\u001b[39;00m \u001b[38;5;129;01mnot\u001b[39;00m \u001b[38;5;28;01mNone\u001b[39;00m\n\u001b[0;32m   1746\u001b[0m f \u001b[38;5;241m=\u001b[39m \u001b[38;5;28mself\u001b[39m\u001b[38;5;241m.\u001b[39mhandles\u001b[38;5;241m.\u001b[39mhandle\n",
      "File \u001b[1;32mC:\\Python311\\Lib\\site-packages\\pandas\\io\\common.py:856\u001b[0m, in \u001b[0;36mget_handle\u001b[1;34m(path_or_buf, mode, encoding, compression, memory_map, is_text, errors, storage_options)\u001b[0m\n\u001b[0;32m    851\u001b[0m \u001b[38;5;28;01melif\u001b[39;00m \u001b[38;5;28misinstance\u001b[39m(handle, \u001b[38;5;28mstr\u001b[39m):\n\u001b[0;32m    852\u001b[0m     \u001b[38;5;66;03m# Check whether the filename is to be opened in binary mode.\u001b[39;00m\n\u001b[0;32m    853\u001b[0m     \u001b[38;5;66;03m# Binary mode does not support 'encoding' and 'newline'.\u001b[39;00m\n\u001b[0;32m    854\u001b[0m     \u001b[38;5;28;01mif\u001b[39;00m ioargs\u001b[38;5;241m.\u001b[39mencoding \u001b[38;5;129;01mand\u001b[39;00m \u001b[38;5;124m\"\u001b[39m\u001b[38;5;124mb\u001b[39m\u001b[38;5;124m\"\u001b[39m \u001b[38;5;129;01mnot\u001b[39;00m \u001b[38;5;129;01min\u001b[39;00m ioargs\u001b[38;5;241m.\u001b[39mmode:\n\u001b[0;32m    855\u001b[0m         \u001b[38;5;66;03m# Encoding\u001b[39;00m\n\u001b[1;32m--> 856\u001b[0m         handle \u001b[38;5;241m=\u001b[39m \u001b[38;5;28mopen\u001b[39m(\n\u001b[0;32m    857\u001b[0m             handle,\n\u001b[0;32m    858\u001b[0m             ioargs\u001b[38;5;241m.\u001b[39mmode,\n\u001b[0;32m    859\u001b[0m             encoding\u001b[38;5;241m=\u001b[39mioargs\u001b[38;5;241m.\u001b[39mencoding,\n\u001b[0;32m    860\u001b[0m             errors\u001b[38;5;241m=\u001b[39merrors,\n\u001b[0;32m    861\u001b[0m             newline\u001b[38;5;241m=\u001b[39m\u001b[38;5;124m\"\u001b[39m\u001b[38;5;124m\"\u001b[39m,\n\u001b[0;32m    862\u001b[0m         )\n\u001b[0;32m    863\u001b[0m     \u001b[38;5;28;01melse\u001b[39;00m:\n\u001b[0;32m    864\u001b[0m         \u001b[38;5;66;03m# Binary mode\u001b[39;00m\n\u001b[0;32m    865\u001b[0m         handle \u001b[38;5;241m=\u001b[39m \u001b[38;5;28mopen\u001b[39m(handle, ioargs\u001b[38;5;241m.\u001b[39mmode)\n",
      "\u001b[1;31mFileNotFoundError\u001b[0m: [Errno 2] No such file or directory: 'files/DMT_Data_2.csv'"
     ]
    }
   ],
   "source": [
    "plot_numerical_imputations()"
   ]
  }
 ],
 "metadata": {
  "kernelspec": {
   "display_name": "Python 3 (ipykernel)",
   "language": "python",
   "name": "python3"
  },
  "language_info": {
   "codemirror_mode": {
    "name": "ipython",
    "version": 3
   },
   "file_extension": ".py",
   "mimetype": "text/x-python",
   "name": "python",
   "nbconvert_exporter": "python",
   "pygments_lexer": "ipython3",
   "version": "3.11.0"
  }
 },
 "nbformat": 4,
 "nbformat_minor": 5
}
